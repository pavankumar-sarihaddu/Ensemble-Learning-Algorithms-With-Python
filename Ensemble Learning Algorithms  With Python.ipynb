{
 "cells": [
  {
   "cell_type": "markdown",
   "metadata": {},
   "source": [
    "# Contents\n",
    "Before We Get Started...\n",
    "\n",
    "Lesson 01: What Is Ensemble Learning? \n",
    "\n",
    "Lesson 02: Bagging Ensembles \n",
    "\n",
    "Lesson 03: Random Forest Ensemble \n",
    "\n",
    "Lesson 04: AdaBoost Ensemble \n",
    "\n",
    "Lesson 05: Gradient Boosting Ensemble \n",
    "\n",
    "Lesson 06: Voting Ensemble \n",
    "\n",
    "Lesson 07: Stacking Ensemble \n",
    "\n",
    "Final Word Before You Go..."
   ]
  },
  {
   "cell_type": "markdown",
   "metadata": {},
   "source": [
    "### Lesson 01: What Is Ensemble Learning?\n",
    "In this lesson, you will discover what ensemble learning is and why it is important. Applied\n",
    "machine learning often involves fitting and evaluating models on a dataset. Given that we\n",
    "cannot know which model will perform best on the dataset beforehand, this may involve a lot\n",
    "of trial and error until we find a model that performs well or best for our project. An alternate\n",
    "approach is to prepare multiple different models, then combine their predictions. This is called\n",
    "an ensemble machine learning model, or simply an ensemble, and the process of finding a\n",
    "well-performing ensemble model is referred to as ensemble learning. Although there is nearly an\n",
    "unlimited number of ways that this can be achieved, there are perhaps three classes of ensemble\n",
    "learning techniques that are most commonly discussed and used in practice. Their popularity\n",
    "is due in large part to their ease of implementation and success on a wide range of predictive\n",
    "modeling problems. They are:\n",
    "\n",
    "\n",
    " Bagging, e.g. bagged decision trees and random forest.\n",
    "\n",
    " Boosting, e.g. AdaBoost and gradient boosting\n",
    "\n",
    " Stacking, e.g. voting and using a meta-model.\n",
    "There are two main reasons to use an ensemble ov\n",
    "er a single model, and they are related;\n",
    "they are:\n",
    "\n",
    " Reliability: Ensembles can reduce the variance of the predictions.\n",
    "\n",
    " Skill: Ensembles can achieve better performance than a single model.\n",
    "These are both important concerns on a machine learning project and sometimes we may\n",
    "\n",
    "prefer one or both properties from a model."
   ]
  },
  {
   "cell_type": "markdown",
   "metadata": {},
   "source": [
    "# Lesson 02: Bagging Ensembles\n",
    "In this lesson, you will discover the bootstrap aggregation, or bagging, ensemble. Bagging works\n",
    "by creating samples of the training dataset and fitting a decision tree on each sample. The\n",
    "differences in the training datasets result in differences in the fit decision trees, and in turn,\n",
    "differences in predictions made by those trees. The predictions made by the ensemble members\n",
    "are then combined using simple statistics, such as voting or averaging. Key to the method is the\n",
    "manner in which each sample of the dataset is prepared to train ensemble members. Examples\n",
    "(rows) are drawn from the dataset at random, although with replacement. Replacement means\n",
    "that if a row is selected, it is returned to the training dataset for potential re-selection in the\n",
    "same training dataset. This is called a bootstrap sample, giving the technique its name. Bagging\n",
    "is available in scikit-learn via the BaggingClassifier and BaggingRegressor classes, which\n",
    "use a decision tree as the base-model by default and you can specify the number of trees to\n",
    "create via the n estimators argument."
   ]
  },
  {
   "cell_type": "markdown",
   "metadata": {},
   "source": [
    "The complete example of evaluating a bagging ensemble\n",
    "for classification is listed below.\n"
   ]
  },
  {
   "cell_type": "code",
   "execution_count": 3,
   "metadata": {},
   "outputs": [],
   "source": [
    "from numpy import mean\n",
    "from numpy import std\n",
    "from sklearn.datasets import make_classification\n",
    "from sklearn.model_selection import cross_val_score\n",
    "from sklearn.model_selection import RepeatedStratifiedKFold\n",
    "from sklearn.ensemble import BaggingClassifier"
   ]
  },
  {
   "cell_type": "code",
   "execution_count": 4,
   "metadata": {},
   "outputs": [],
   "source": [
    "# create the synthetic classification data set"
   ]
  },
  {
   "cell_type": "code",
   "execution_count": 5,
   "metadata": {},
   "outputs": [],
   "source": [
    "x,y = make_classification(random_state=1)"
   ]
  },
  {
   "cell_type": "code",
   "execution_count": 6,
   "metadata": {},
   "outputs": [],
   "source": [
    "# configure the ensemble model"
   ]
  },
  {
   "cell_type": "code",
   "execution_count": 8,
   "metadata": {},
   "outputs": [],
   "source": [
    "model=BaggingClassifier(n_estimators=50)"
   ]
  },
  {
   "cell_type": "code",
   "execution_count": 9,
   "metadata": {},
   "outputs": [],
   "source": [
    "# configure the resampling model"
   ]
  },
  {
   "cell_type": "code",
   "execution_count": 11,
   "metadata": {},
   "outputs": [],
   "source": [
    "cv=RepeatedStratifiedKFold(n_splits=10,n_repeats=3,random_state=1)"
   ]
  },
  {
   "cell_type": "code",
   "execution_count": 12,
   "metadata": {},
   "outputs": [],
   "source": [
    "# evaluate the ensembile on the data set using the resampling method"
   ]
  },
  {
   "cell_type": "code",
   "execution_count": 13,
   "metadata": {},
   "outputs": [],
   "source": [
    "n_scores=cross_val_score(model,x,y,scoring=\"accuracy\",cv=cv,n_jobs=-1)"
   ]
  },
  {
   "cell_type": "code",
   "execution_count": 14,
   "metadata": {},
   "outputs": [],
   "source": [
    "# report ensemble performance"
   ]
  },
  {
   "cell_type": "code",
   "execution_count": 16,
   "metadata": {},
   "outputs": [
    {
     "name": "stdout",
     "output_type": "stream",
     "text": [
      "Mean Accuracy: 0.943 (0.080)\n"
     ]
    }
   ],
   "source": [
    "print('Mean Accuracy: %.3f (%.3f)' % (mean(n_scores), std(n_scores)))"
   ]
  },
  {
   "cell_type": "markdown",
   "metadata": {},
   "source": [
    "# Lesson 03: Random Forest Ensemble"
   ]
  },
  {
   "cell_type": "markdown",
   "metadata": {},
   "source": [
    "In this lesson, you will discover the random forest ensemble. Random forest is an extension\n",
    "of the bagging ensemble. Like bagging, the random forest ensemble fits a decision tree on\n",
    "different bootstrap samples of the training dataset. Unlike bagging, random forest will also\n",
    "sample the features (columns) of each dataset. Specifically, split points are chosen in the data\n",
    "while constructing each decision tree. Rather than considering all features when choosing a split\n",
    "point, random forest limits the features to a random subset of features, such as 3 if there were\n",
    "10 features.\n"
   ]
  },
  {
   "cell_type": "markdown",
   "metadata": {},
   "source": [
    "The random forest ensemble is available in scikit-learn via the RandomForestClassifier\n",
    "and RandomForestRegressor classes. You can specify the number of trees to create via the\n",
    "n estimators argument and the number of randomly selected features to consider at each split\n",
    "point via the max features argument, which is set to the square root of the number of features\n",
    "in your dataset by default."
   ]
  },
  {
   "cell_type": "markdown",
   "metadata": {},
   "source": [
    "#### The complete example of evaluating a random forest ensemble forclassification is listed below."
   ]
  },
  {
   "cell_type": "code",
   "execution_count": 20,
   "metadata": {},
   "outputs": [],
   "source": [
    "from numpy import mean\n",
    "from numpy import std\n",
    "from sklearn.datasets import make_classification\n",
    "from sklearn.model_selection import cross_val_score\n",
    "from sklearn.model_selection import RepeatedStratifiedKFold\n",
    "from sklearn.ensemble import RandomForestClassifier"
   ]
  },
  {
   "cell_type": "code",
   "execution_count": 21,
   "metadata": {},
   "outputs": [],
   "source": [
    "# create the synthetic classification data set"
   ]
  },
  {
   "cell_type": "code",
   "execution_count": 23,
   "metadata": {},
   "outputs": [],
   "source": [
    "X,y=make_classification(random_state=1)"
   ]
  },
  {
   "cell_type": "code",
   "execution_count": 24,
   "metadata": {},
   "outputs": [],
   "source": [
    "# configure the ensemble model"
   ]
  },
  {
   "cell_type": "code",
   "execution_count": 26,
   "metadata": {},
   "outputs": [],
   "source": [
    "model=RandomForestClassifier(n_estimators=50)"
   ]
  },
  {
   "cell_type": "code",
   "execution_count": 27,
   "metadata": {},
   "outputs": [],
   "source": [
    "# configure the resampling method"
   ]
  },
  {
   "cell_type": "code",
   "execution_count": 28,
   "metadata": {},
   "outputs": [],
   "source": [
    "cv=RepeatedStratifiedKFold(n_splits=10,n_repeats=3,random_state=1)"
   ]
  },
  {
   "cell_type": "code",
   "execution_count": 29,
   "metadata": {},
   "outputs": [],
   "source": [
    "# evaluate the ensemble on the dataset using the resampling method"
   ]
  },
  {
   "cell_type": "code",
   "execution_count": 30,
   "metadata": {},
   "outputs": [],
   "source": [
    "n_scores=cross_val_score(model,x,y,scoring='accuracy',cv=cv,n_jobs=-1)"
   ]
  },
  {
   "cell_type": "code",
   "execution_count": 31,
   "metadata": {},
   "outputs": [],
   "source": [
    "# report ensemble performance"
   ]
  },
  {
   "cell_type": "code",
   "execution_count": 32,
   "metadata": {},
   "outputs": [
    {
     "name": "stdout",
     "output_type": "stream",
     "text": [
      "Mean Accuracy:0.960 (0.066)\n"
     ]
    }
   ],
   "source": [
    "print(\"Mean Accuracy:%.3f (%.3f)\"%(mean(n_scores),std(n_scores)))"
   ]
  },
  {
   "cell_type": "markdown",
   "metadata": {},
   "source": [
    "# Lesson 04: AdaBoost Ensemble"
   ]
  },
  {
   "cell_type": "markdown",
   "metadata": {},
   "source": [
    "In this lesson, you will discover the adaptive boosting or AdaBoost ensemble. Boosting involves\n",
    "adding models sequentially to the ensemble where new models attempt to correct the errors\n",
    "made by prior models already added to the ensemble. As such, the more ensemble members\n",
    "that are added, the fewer errors the ensemble is expected to make, at least to a limit supported\n",
    "by the data and before overfitting the training dataset. The idea of boosting was first developed\n",
    "as a theoretical idea, and the AdaBoost algorithm was the first successful approach to realizing\n",
    "a boosting-based ensemble algorithm.\n"
   ]
  },
  {
   "cell_type": "markdown",
   "metadata": {},
   "source": [
    "AdaBoost works by fitting decision trees on versions of the training dataset weighted so\n",
    "that the tree pays more attention to examples (rows) that the prior members got wrong, and\n",
    "less attention to those that the prior models got correct. Rather than full decision trees,\n",
    "AdaBoost uses very simple trees that make a single decision on one input variable before making\n",
    "a prediction. These short trees are referred to as decision stumps. AdaBoost is available in\n",
    "scikit-learn via the AdaBoostClassifier and AdaBoostRegressor classes, which use a decision\n",
    "tree (decision stump) as the base-model by default and you can specify the number of trees\n",
    "to create via the n estimators argument."
   ]
  },
  {
   "cell_type": "markdown",
   "metadata": {},
   "source": [
    "The complete example of evaluating an AdaBoost\n",
    "ensemble for classification is listed below.\n"
   ]
  },
  {
   "cell_type": "code",
   "execution_count": 35,
   "metadata": {},
   "outputs": [],
   "source": [
    "from numpy import mean\n",
    "from numpy import std\n",
    "from sklearn.datasets import make_classification\n",
    "from sklearn.model_selection import cross_val_score\n",
    "from sklearn.model_selection import RepeatedStratifiedKFold\n",
    "from sklearn.ensemble import AdaBoostClassifier"
   ]
  },
  {
   "cell_type": "code",
   "execution_count": 36,
   "metadata": {},
   "outputs": [],
   "source": [
    "# create the synthesic classification dataset"
   ]
  },
  {
   "cell_type": "code",
   "execution_count": 37,
   "metadata": {},
   "outputs": [],
   "source": [
    "x,y=make_classification(random_state=1)"
   ]
  },
  {
   "cell_type": "code",
   "execution_count": 38,
   "metadata": {},
   "outputs": [],
   "source": [
    "# configure the ensemble model"
   ]
  },
  {
   "cell_type": "code",
   "execution_count": 39,
   "metadata": {},
   "outputs": [],
   "source": [
    "model=AdaBoostClassifier(n_estimators=50)"
   ]
  },
  {
   "cell_type": "code",
   "execution_count": 41,
   "metadata": {},
   "outputs": [],
   "source": [
    "# configuring the re-sapmling model"
   ]
  },
  {
   "cell_type": "code",
   "execution_count": 42,
   "metadata": {},
   "outputs": [],
   "source": [
    "cv=RepeatedStratifiedKFold(n_splits=10,n_repeats=3,random_state=1)"
   ]
  },
  {
   "cell_type": "code",
   "execution_count": 43,
   "metadata": {},
   "outputs": [],
   "source": [
    "# evaluate the ensemble on the dataset using the resampling method"
   ]
  },
  {
   "cell_type": "code",
   "execution_count": 45,
   "metadata": {},
   "outputs": [],
   "source": [
    "n_score=cross_val_score(model,x,y,scoring='accuracy',cv=cv,n_jobs=-1)"
   ]
  },
  {
   "cell_type": "code",
   "execution_count": 46,
   "metadata": {},
   "outputs": [],
   "source": [
    "# report ensemble performance"
   ]
  },
  {
   "cell_type": "code",
   "execution_count": 47,
   "metadata": {},
   "outputs": [
    {
     "name": "stdout",
     "output_type": "stream",
     "text": [
      "Men Accuracy:0.960 (0.066)\n"
     ]
    }
   ],
   "source": [
    "print(\"Men Accuracy:%.3f (%.3f)\" %(mean(n_scores),std(n_scores)))"
   ]
  },
  {
   "cell_type": "markdown",
   "metadata": {},
   "source": [
    "# Lesson 05: Gradient BoostingEnsemble"
   ]
  },
  {
   "cell_type": "markdown",
   "metadata": {},
   "source": [
    "In this lesson, you will discover the gradient boosting ensemble. Gradient boosting is a framework\n",
    "for boosting ensemble algorithms and an extension to AdaBoost. It re-frames boosting as an\n",
    "additive model under a statistical framework and allows for the use of arbitrary loss functions\n",
    "to make it more flexible and loss penalties (shrinkage) to reduce overfitting. Gradient boosting\n",
    "also introduces ideas of bagging to the ensemble members, such as sampling of the training\n",
    "dataset rows and columns, referred to as stochastic gradient boosting. It is a very successful\n",
    "ensemble technique for structured or tabular data, although it can be slow to fit a model given\n",
    "that models are added sequentially. More efficient implementations have been developed, such\n",
    "as the popular extreme gradient boosting (XGBoost) and light gradient boosting machines\n",
    "(LightGBM).\n"
   ]
  },
  {
   "cell_type": "markdown",
   "metadata": {},
   "source": [
    "GradientBoostingRegressor classes, which use a decision tree as the base-model by default.\n",
    "You can specify the number of trees to create via the n estimators argument and the learning\n",
    "rate that controls the contribution from each tree via the learning rate argument that defaults\n",
    "to 0.1."
   ]
  },
  {
   "cell_type": "code",
   "execution_count": 48,
   "metadata": {},
   "outputs": [
    {
     "name": "stdout",
     "output_type": "stream",
     "text": [
      "Mean Accuracy: 0.930 (0.090)\n"
     ]
    }
   ],
   "source": [
    "# example of evaluating a gradient boosting ensemble for classification\n",
    "from numpy import mean\n",
    "from numpy import std\n",
    "from sklearn.datasets import make_classification\n",
    "from sklearn.model_selection import cross_val_score\n",
    "from sklearn.model_selection import RepeatedStratifiedKFold\n",
    "from sklearn.ensemble import GradientBoostingClassifier\n",
    "# create the synthetic classification dataset\n",
    "X, y = make_classification(random_state=1)\n",
    "# configure the ensemble model\n",
    "model = GradientBoostingClassifier(n_estimators=50)\n",
    "# configure the resampling method\n",
    "cv = RepeatedStratifiedKFold(n_splits=10, n_repeats=3, random_state=1)\n",
    "# evaluate the ensemble on the dataset using the resampling method\n",
    "n_scores = cross_val_score(model, X, y, scoring='accuracy', cv=cv, n_jobs=-1)\n",
    "# report ensemble performance\n",
    "print('Mean Accuracy: %.3f (%.3f)' % (mean(n_scores), std(n_scores)))"
   ]
  },
  {
   "cell_type": "markdown",
   "metadata": {},
   "source": [
    "# Lesson 06: Voting Ensemble"
   ]
  },
  {
   "cell_type": "markdown",
   "metadata": {},
   "source": [
    "In this lesson, you will discover the voting ensemble.\n",
    "\n",
    "Voting ensembles use simple statistics to combine the predictions from multiple models.\n",
    "\n",
    "Typically, this involves fitting multiple different model types on the same training dataset, then calculating the average prediction in the case of regression or the class label with the most votes for classification, called hard voting.\n",
    "\n",
    "Voting can also be used when predicting the probability of class labels on classification problems by summing predicted probabilities and selecting the label with the largest summed probability. This is called soft voting and is preferred when the base-models used in the ensemble natively support predicting class probabilities as it can result in better performance.\n",
    "\n",
    "Voting ensembles are available in scikit-learn via the VotingClassifier and VotingRegressor classes. A list of base-models can be provided as an argument to the model and each model in the list must be a tuple with a name and the model, e.g. (‘lr’, LogisticRegression()). The type of voting used for classification can be specified via the “voting” argument and set to either ‘soft‘ or ‘hard‘."
   ]
  },
  {
   "cell_type": "code",
   "execution_count": 3,
   "metadata": {},
   "outputs": [
    {
     "name": "stdout",
     "output_type": "stream",
     "text": [
      "Mean Accuracy: 0.960 (0.061)\n"
     ]
    }
   ],
   "source": [
    "\n",
    "# example of evaluating a voting ensemble for classification\n",
    "from numpy import mean\n",
    "from numpy import std\n",
    "from sklearn.datasets import make_classification\n",
    "from sklearn.model_selection import cross_val_score\n",
    "from sklearn.model_selection import RepeatedStratifiedKFold\n",
    "from sklearn.ensemble import VotingClassifier\n",
    "from sklearn.naive_bayes import GaussianNB\n",
    "from sklearn.linear_model import LogisticRegression\n",
    "# create the synthetic classification dataset\n",
    "X, y = make_classification(random_state=1)\n",
    "# configure the models to use in the ensemble\n",
    "models = [('lr', LogisticRegression()), ('nb', GaussianNB())]\n",
    "# configure the ensemble model\n",
    "model = VotingClassifier(models, voting='soft')\n",
    "# configure the resampling method\n",
    "cv = RepeatedStratifiedKFold(n_splits=10, n_repeats=3, random_state=1)\n",
    "# evaluate the ensemble on the dataset using the resampling method\n",
    "n_scores = cross_val_score(model, X, y, scoring='accuracy', cv=cv, n_jobs=-1)\n",
    "# report ensemble performance\n",
    "print('Mean Accuracy: %.3f (%.3f)' % (mean(n_scores), std(n_scores)))"
   ]
  },
  {
   "cell_type": "markdown",
   "metadata": {},
   "source": [
    "# Lesson 07: Stacking Ensemble"
   ]
  },
  {
   "cell_type": "markdown",
   "metadata": {},
   "source": [
    "In this lesson, you will discover the stacked generalization or stacking ensemble.\n",
    "\n",
    "Stacking involves combining the predictions of multiple different types of base-models, much like voting.\n",
    "\n",
    "The important difference from voting is that another machine learning model is used to learn how to best combine the predictions of the base-models. This is often a linear model, such as a linear regression for regression problems or logistic regression for classification, but can be any machine learning model you like.\n",
    "\n",
    "The meta-model is trained on the predictions made by base-models on out-of-sample data.\n",
    "\n",
    "This involves using k-fold cross-validation for each base-model and storing all of the out-of-fold predictions. The base-models are then trained on the entire training dataset, and the meta-model is trained on the out-of-fold predictions and learns which model to trust, the degree to trust them, and under which circumstances.\n",
    "\n",
    "Although internally stacking uses k-fold cross-validation to train the meta model, you can evaluate stacking models any way you like, such as via a train-test split or k-fold cross-validation. The evaluation of the model is separate from this internal resampling-for-training process.\n",
    "\n",
    "Stacking ensembles are available in scikit-learn via the StackingClassifier and StackingRegressor classes. A list of base-models can be provided as an argument to the model and each model in the list must be a tuple with a name and the model, e.g. (‘lr’, LogisticRegression()). The meta-learner can be specified via the “final_estimator” argument and the resampling strategy can be specified via the “cv” argument and can be simply set to an integer indicating the number of cross-validation folds."
   ]
  },
  {
   "cell_type": "code",
   "execution_count": 4,
   "metadata": {},
   "outputs": [
    {
     "name": "stdout",
     "output_type": "stream",
     "text": [
      "Mean Accuracy: 0.933 (0.083)\n"
     ]
    }
   ],
   "source": [
    "\n",
    "# example of evaluating a stacking ensemble for classification\n",
    "from numpy import mean\n",
    "from numpy import std\n",
    "from sklearn.datasets import make_classification\n",
    "from sklearn.model_selection import cross_val_score\n",
    "from sklearn.model_selection import RepeatedStratifiedKFold\n",
    "from sklearn.ensemble import StackingClassifier\n",
    "from sklearn.neighbors import KNeighborsClassifier\n",
    "from sklearn.tree import DecisionTreeClassifier\n",
    "from sklearn.linear_model import LogisticRegression\n",
    "# create the synthetic classification dataset\n",
    "X, y = make_classification(random_state=1)\n",
    "# configure the models to use in the ensemble\n",
    "models = [('knn', KNeighborsClassifier()), ('tree', DecisionTreeClassifier())]\n",
    "# configure the ensemble model\n",
    "model = StackingClassifier(models, final_estimator=LogisticRegression(), cv=3)\n",
    "# configure the resampling method\n",
    "cv = RepeatedStratifiedKFold(n_splits=10, n_repeats=3, random_state=1)\n",
    "# evaluate the ensemble on the dataset using the resampling method\n",
    "n_scores = cross_val_score(model, X, y, scoring='accuracy', cv=cv, n_jobs=-1)\n",
    "# report ensemble performance\n",
    "print('Mean Accuracy: %.3f (%.3f)' % (mean(n_scores), std(n_scores)))"
   ]
  },
  {
   "cell_type": "code",
   "execution_count": null,
   "metadata": {},
   "outputs": [],
   "source": []
  }
 ],
 "metadata": {
  "kernelspec": {
   "display_name": "Python 3",
   "language": "python",
   "name": "python3"
  },
  "language_info": {
   "codemirror_mode": {
    "name": "ipython",
    "version": 3
   },
   "file_extension": ".py",
   "mimetype": "text/x-python",
   "name": "python",
   "nbconvert_exporter": "python",
   "pygments_lexer": "ipython3",
   "version": "3.8.3"
  }
 },
 "nbformat": 4,
 "nbformat_minor": 4
}
